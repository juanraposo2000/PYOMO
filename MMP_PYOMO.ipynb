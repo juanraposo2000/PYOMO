{
 "cells": [
  {
   "cell_type": "code",
   "execution_count": 24,
   "id": "3204dfcd",
   "metadata": {},
   "outputs": [],
   "source": [
    "from __future__ import division \n",
    "from pyomo.environ import * \n",
    "import os\n",
    "import pandas as pd\n",
    "import numpy as np\n",
    "import matplotlib.pyplot as plt"
   ]
  },
  {
   "cell_type": "code",
   "execution_count": 25,
   "id": "83b23914",
   "metadata": {},
   "outputs": [],
   "source": [
    "m = AbstractModel('TFG_MMP_v1.0_February_2023')"
   ]
  },
  {
   "cell_type": "code",
   "execution_count": 26,
   "id": "e400aa78",
   "metadata": {},
   "outputs": [],
   "source": [
    "m.G = Set()\n",
    "m.p = Set()\n",
    "m.s = Set() \n",
    "m.n = Set()\n",
    "m.t = Set()\n",
    "m.h = Set()\n",
    "m.hf = Set()\n",
    "#m.aset = Set()"
   ]
  },
  {
   "cell_type": "code",
   "execution_count": 27,
   "id": "52ad4315",
   "metadata": {},
   "outputs": [],
   "source": [
    "data = DataPortal()\n",
    "data.load(filename= 'g.csv', set= m.G)\n",
    "data.load(filename= 'p.csv', set= m.p)\n",
    "data.load(filename= 's.csv', set= m.s)\n",
    "data.load(filename= 'n.csv', set= m.n)\n",
    "data.load(filename= 't.csv', set= m.t)\n",
    "data.load(filename= 'h.csv', set= m.h)\n",
    "data.load(filename= 'hf.csv', set= m.hf)\n",
    "#data.load(filename= 'aset.csv', set= m.aset)"
   ]
  },
  {
   "cell_type": "code",
   "execution_count": 28,
   "id": "79abb18a",
   "metadata": {},
   "outputs": [],
   "source": [
    "m.e = 480"
   ]
  },
  {
   "cell_type": "code",
   "execution_count": 29,
   "id": "fe6cc526",
   "metadata": {},
   "outputs": [],
   "source": [
    "#m.final = Param(m.p, m.aset)\n",
    "\n",
    "\n",
    "m.CO2rate = Param(m.G, within = NonNegativeReals)\n",
    "m.alfa = Param(m.G, within = NonNegativeReals)\n",
    "m.beta = Param(m.G, within = NonNegativeReals)\n",
    "m.gamma = Param(m.G, within = NonNegativeReals)\n",
    "m.f = Param(m.G, within = NonNegativeReals)\n",
    "m.o = Param(m.G, within = NonNegativeReals)\n",
    "m.qmax = Param(m.G, within = NonNegativeReals)\n",
    "m.qmin = Param(m.G, within = NonNegativeReals)\n",
    "m.bmax = Param(m.G, within = NonNegativeReals)\n",
    "m.wmax = Param(m.G)\n",
    "m.w0 = Param(m.G)\n",
    "m.wmin = Param(m.G)\n",
    "m.k = Param(m.G)\n",
    "m.rend = Param(m.G)\n",
    "\n",
    "# Read CSV file into pandas DataFrame and convert to Pyomo parameter\n",
    "param_data = pd.read_csv('Data_duration_demand1.csv', header=0, index_col=[0, 1, 2])\n",
    "#model.p = Param(model.I, model.J, model.K, initialize=param_data['p'].to_dict())\n",
    "m.a = Param(m.n, m.s, m.p, initialize=param_data['a'].to_dict())\n",
    "m.d = Param(m.n, m.s, m.p, initialize=param_data['d'].to_dict())\n",
    "\n",
    "param_data2 = pd.read_csv('Data_inflows1.csv', header=0, index_col=[0, 1])\n",
    "m.i = Param(m.h, m.p, initialize=param_data2['i'].to_dict())\n",
    "\n",
    "\n",
    "param_data3 = pd.read_csv('Data_qred1.csv', header=0, index_col=[0, 1, 2, 3])\n",
    "m.qred = Param(m.t, m.s, m.n, m.p, initialize=param_data3['qred'].to_dict())\n",
    "#m.p_type = Param(m.G) "
   ]
  },
  {
   "cell_type": "code",
   "execution_count": 30,
   "id": "8a958385",
   "metadata": {},
   "outputs": [],
   "source": [
    "m.u = Var(m.t, m.s, m.p,within= Binary) #u(t,s,p) Decision to connect generator g\n",
    "m.y = Var(m.t,m.s, m.p, within= Binary)#y(t,s,p) Start up decision for generator g\n",
    "#m.z = Var(m.G, within= Binary)#z(p,s,g) Shut down decision for generator g #IT IS NOT USED IN THE MODEL"
   ]
  },
  {
   "cell_type": "code",
   "execution_count": 31,
   "id": "93bb07c4",
   "metadata": {},
   "outputs": [],
   "source": [
    "m.qt = Var(m.t, m.n, m.s, m.p) #q(t,n,s,p) Net power delivered by thermal generator t [GW]\n",
    "m.qh = Var(m.h, m.n, m.s, m.p) #q(h,n,s,p) Net power delivered by hydraulic generator h [GW]\n",
    "m.b = Var(m.h, m.n, m.s, m.p) #b(h,n,s,p)Gross power consumed by pumping-storage plant [GW]\n",
    "m.w = Var(m.h, m.p) #w(h,p) Hydroelectric energy in the reservoir of the plant [GWh]"
   ]
  },
  {
   "cell_type": "code",
   "execution_count": 32,
   "id": "33016507",
   "metadata": {},
   "outputs": [],
   "source": [
    "def obj_rule (m):\n",
    "    return sum((m.f[t]*(m.gamma[t]*m.y[t,s,p] + sum((m.a[n, s, p] * (m.alfa[t] * m.qt[t,n,s,p] / m.k [t] + m.beta[t] * m.u[t, s, p])) for n in m.n))  + \n",
    "        sum((m.a [n, s, p]* m.o[t] * m.qt[t, n, s, p] / m.k[t]) for n in m.n )) for t in m.t for p in m.p for s in m.s)\n",
    "\n",
    "m.obj = Objective(rule= obj_rule, sense= minimize)"
   ]
  },
  {
   "cell_type": "code",
   "execution_count": 37,
   "id": "76c99a18",
   "metadata": {},
   "outputs": [
    {
     "name": "stdout",
     "output_type": "stream",
     "text": [
      "WARNING: Implicitly replacing the Component attribute Upper_Thermal\n",
      "    (type=<class 'pyomo.core.base.constraint.AbstractScalarConstraint'>) on\n",
      "    block 'TFG_MMP_v1.0_February_2023' with a new Component (type=<class\n",
      "    'pyomo.core.base.constraint.IndexedConstraint'>). This is usually\n",
      "    indicative of a modelling error. To avoid this warning, use\n",
      "    block.del_component() and block.add_component().\n",
      "WARNING: Implicitly replacing the Component attribute Upper_Hydro (type=<class\n",
      "    'pyomo.core.base.constraint.AbstractScalarConstraint'>) on block\n",
      "    'TFG_MMP_v1.0_February_2023' with a new Component (type=<class\n",
      "    'pyomo.core.base.constraint.AbstractScalarConstraint'>). This is usually\n",
      "    indicative of a modelling error. To avoid this warning, use\n",
      "    block.del_component() and block.add_component().\n",
      "WARNING: Implicitly replacing the Component attribute Cap_Hydro (type=<class\n",
      "    'pyomo.core.base.constraint.AbstractScalarConstraint'>) on block\n",
      "    'TFG_MMP_v1.0_February_2023' with a new Component (type=<class\n",
      "    'pyomo.core.base.constraint.AbstractScalarConstraint'>). This is usually\n",
      "    indicative of a modelling error. To avoid this warning, use\n",
      "    block.del_component() and block.add_component().\n",
      "WARNING: Implicitly replacing the Component attribute Lower_Thermal\n",
      "    (type=<class 'pyomo.core.base.constraint.AbstractScalarConstraint'>) on\n",
      "    block 'TFG_MMP_v1.0_February_2023' with a new Component (type=<class\n",
      "    'pyomo.core.base.constraint.AbstractScalarConstraint'>). This is usually\n",
      "    indicative of a modelling error. To avoid this warning, use\n",
      "    block.del_component() and block.add_component().\n",
      "WARNING: Implicitly replacing the Component attribute E_Bal (type=<class\n",
      "    'pyomo.core.base.constraint.AbstractScalarConstraint'>) on block\n",
      "    'TFG_MMP_v1.0_February_2023' with a new Component (type=<class\n",
      "    'pyomo.core.base.constraint.AbstractScalarConstraint'>). This is usually\n",
      "    indicative of a modelling error. To avoid this warning, use\n",
      "    block.del_component() and block.add_component().\n",
      "WARNING: Implicitly replacing the Component attribute Upper_W (type=<class\n",
      "    'pyomo.core.base.constraint.AbstractScalarConstraint'>) on block\n",
      "    'TFG_MMP_v1.0_February_2023' with a new Component (type=<class\n",
      "    'pyomo.core.base.constraint.AbstractScalarConstraint'>). This is usually\n",
      "    indicative of a modelling error. To avoid this warning, use\n",
      "    block.del_component() and block.add_component().\n",
      "WARNING: Implicitly replacing the Component attribute Lower_W (type=<class\n",
      "    'pyomo.core.base.constraint.AbstractScalarConstraint'>) on block\n",
      "    'TFG_MMP_v1.0_February_2023' with a new Component (type=<class\n",
      "    'pyomo.core.base.constraint.AbstractScalarConstraint'>). This is usually\n",
      "    indicative of a modelling error. To avoid this warning, use\n",
      "    block.del_component() and block.add_component().\n",
      "WARNING: Implicitly replacing the Component attribute Min_H (type=<class\n",
      "    'pyomo.core.base.constraint.AbstractScalarConstraint'>) on block\n",
      "    'TFG_MMP_v1.0_February_2023' with a new Component (type=<class\n",
      "    'pyomo.core.base.constraint.AbstractScalarConstraint'>). This is usually\n",
      "    indicative of a modelling error. To avoid this warning, use\n",
      "    block.del_component() and block.add_component().\n",
      "WARNING: Implicitly replacing the Component attribute Min_Grid (type=<class\n",
      "    'pyomo.core.base.constraint.AbstractScalarConstraint'>) on block\n",
      "    'TFG_MMP_v1.0_February_2023' with a new Component (type=<class\n",
      "    'pyomo.core.base.constraint.AbstractScalarConstraint'>). This is usually\n",
      "    indicative of a modelling error. To avoid this warning, use\n",
      "    block.del_component() and block.add_component().\n"
     ]
    }
   ],
   "source": [
    "#DECLARATION OF CONSTRAINTS (meaning of warnings????)\n",
    "    #Demand balance and marginal cost\n",
    "'''\n",
    "    def Demand_Bal_rule(model,t,h,n,s,p):\n",
    "    return sum((m.qt[t,n,s,p]) for t in m.t) + sum((m.qh[h,n,s,p] - m.b[h,n,s,p]) for h in m.h) == m.d[n,s,p]\n",
    "m.Demand_Bal = Constraint(m.t, m.h, m.n, m.s, m.p, rule= Demand_Bal_rule)\n",
    "'''\n",
    "\n",
    "    #Upper thermal limit \n",
    "def Upper_Thermal_rule(model,t,n,s,p):\n",
    "    return m.qt[t,n,s,p] <= m.u[t,n,s,p] * m.k[t] * m.qmax[t]\n",
    "\n",
    "m.Upper_Thermal = Constraint(m.t, m.n, m.s, m.p, rule= Upper_Thermal_rule)\n",
    "    #Upper hydro constraints\n",
    "def Upper_Hydro_rule(model,h,n,s,p):\n",
    "    return m.qh[h,n,s,p] <= m.k[h] * m.qmax[h]\n",
    "\n",
    "m.Upper_Hydro = Constraint(rule= Upper_Hydro_rule)\n",
    "    #Maximum Capacity limits for pumped storage\n",
    "def Cap_Hydro_rule(model,h,n,s,p):\n",
    "    return m.b[h,n,s,p] <= m.k[h] * m.bmax[h]\n",
    "\n",
    "m.Cap_Hydro = Constraint(rule= Cap_Hydro_rule)\n",
    "    #Lower thermal limit\n",
    "def Lower_Thermal_rule(model,t,n,s,p):\n",
    "    return m.qt[t,n,s,p] >= m.u[t,n,s,p] * m.k[t] * m.qmin[t]\n",
    "\n",
    "m.Lower_Thermal = Constraint(rule= Lower_Thermal_rule)\n",
    "    #Energy balance in an equivalent reservoir\n",
    "def E_Bal_rule(model,h,n,s,p):\n",
    "    return m.w[h,p] + sum(m.a[n,s,p] * (m.qh[h,n,s,p] - m.rend[h] * m.b[h,n,s,p]) for n in m.n for s in m.s) <= m.w[h,p - 1] + m.i[h,p]\n",
    "\n",
    "m.E_Bal = Constraint(rule= E_Bal_rule)\n",
    "    #Upper limit equivalent energy stored in reservoir\n",
    "def Upper_W_rule(model,h,p):\n",
    "    return m.w[h,p] <= m.wmax[h,p]\n",
    "\n",
    "m.Upper_W = Constraint(rule = Upper_W_rule)\n",
    "    #Lower limit equivalent energy stored in basin\n",
    "def Lower_W_rule(model,h,p):\n",
    "    return m.w[h,p] >= m.wmin[h,p]\n",
    "\n",
    "m.Lower_W = Constraint(rule = Lower_W_rule)\n",
    "    #Minimum operating hours during the year\n",
    "def Min_H_rule(model,t,n,s,p):\n",
    "    return sum((m.a[n,s,p] * m.qt[t,n,s,p]) for n in m.n for s in m.s for p in m.p) >= m.k[t] * m.qmax[t] * m.e\n",
    "\n",
    "m.Min_H = Constraint( rule = Min_H_rule)\n",
    "    #Minimum production to accommodate grid constraints\n",
    "def Min_Grid_rule(model,t,n,s,p):\n",
    "    return m.qt[t,n,s,p] >= m.qred[t,n,s,p]\n",
    "\n",
    "m.Min_Grid = Constraint(rule = Min_Grid_rule)"
   ]
  },
  {
   "cell_type": "code",
   "execution_count": 38,
   "id": "6dec5eec",
   "metadata": {},
   "outputs": [],
   "source": [
    "workPath = os.getcwd()"
   ]
  },
  {
   "cell_type": "code",
   "execution_count": 39,
   "id": "de8e5bc8",
   "metadata": {},
   "outputs": [
    {
     "name": "stdout",
     "output_type": "stream",
     "text": [
      "['GEN_001', 'GEN_002', 'GEN_003', 'GEN_004', 'GEN_005', 'GEN_006', 'GEN_007', 'GEN_008', 'HYDRO_RES', 'HYDRO_ROR', 'HYDRO_PUM'] \n",
      "\n",
      "['p1', 'p2', 'p3', 'p4', 'p5', 'p6', 'p7', 'p8', 'p9', 'p10', 'p11', 'p12'] \n",
      "\n",
      "['lab', 'fes'] \n",
      "\n",
      "['n1', 'n2', 'n3', 'n4', 'n5'] \n",
      "\n",
      "['GEN_001', 'GEN_002', 'GEN_003', 'GEN_004', 'GEN_005', 'GEN_006', 'GEN_007', 'GEN_008'] \n",
      "\n",
      "['HYDRO_RES', 'HYDRO_ROR', 'HYDRO_PUM'] \n",
      "\n",
      "['HYDRO_PUM'] \n",
      "\n"
     ]
    }
   ],
   "source": [
    "print(data['G'],'\\n')\n",
    "print(data['p'],'\\n')\n",
    "print(data['s'],'\\n')\n",
    "print(data['n'],'\\n')\n",
    "print(data['t'],'\\n')\n",
    "print(data['h'],'\\n')\n",
    "print(data['hf'],'\\n')\n",
    "#print(data['aset'],'\\n')"
   ]
  },
  {
   "cell_type": "code",
   "execution_count": 40,
   "id": "122eb5f5",
   "metadata": {},
   "outputs": [
    {
     "name": "stdout",
     "output_type": "stream",
     "text": [
      "ERROR: Rule failed when generating expression for Constraint Upper_Thermal\n",
      "    with index ('GEN_001', 'n1', 'lab', 'p1'): ValueError: Error retrieving\n",
      "    component qt[GEN_001,n1,lab,p1]: The component has not been constructed.\n",
      "ERROR: Constructing component 'Upper_Thermal' from data=None failed:\n",
      "        ValueError: Error retrieving component qt[GEN_001,n1,lab,p1]: The\n",
      "        component has not been constructed.\n"
     ]
    },
    {
     "ename": "ValueError",
     "evalue": "Error retrieving component qt[GEN_001,n1,lab,p1]: The component has not been constructed.",
     "output_type": "error",
     "traceback": [
      "\u001b[1;31m---------------------------------------------------------------------------\u001b[0m",
      "\u001b[1;31mValueError\u001b[0m                                Traceback (most recent call last)",
      "Cell \u001b[1;32mIn[40], line 5\u001b[0m\n\u001b[0;32m      1\u001b[0m data\u001b[38;5;241m.\u001b[39mload(filename\u001b[38;5;241m=\u001b[39m\u001b[38;5;124m\"\u001b[39m\u001b[38;5;124mData_generators1.csv\u001b[39m\u001b[38;5;124m\"\u001b[39m, param\u001b[38;5;241m=\u001b[39m(m\u001b[38;5;241m.\u001b[39mCO2rate, m\u001b[38;5;241m.\u001b[39malfa , m\u001b[38;5;241m.\u001b[39mbeta , m\u001b[38;5;241m.\u001b[39mgamma , m\u001b[38;5;241m.\u001b[39mf , m\u001b[38;5;241m.\u001b[39mo , m\u001b[38;5;241m.\u001b[39mqmax , m\u001b[38;5;241m.\u001b[39mqmin , m\u001b[38;5;241m.\u001b[39mbmax , m\u001b[38;5;241m.\u001b[39mwmax , m\u001b[38;5;241m.\u001b[39mw0 , m\u001b[38;5;241m.\u001b[39mwmin , m\u001b[38;5;241m.\u001b[39mk , m\u001b[38;5;241m.\u001b[39mrend))\n\u001b[0;32m      2\u001b[0m \u001b[38;5;66;03m#why it generates problems to load more than one csv???????\u001b[39;00m\n\u001b[0;32m      3\u001b[0m \u001b[38;5;66;03m#data.load(filename=\"Data_duration1.csv\", set= (m.n, m.s, m.p))\u001b[39;00m\n\u001b[1;32m----> 5\u001b[0m instance \u001b[38;5;241m=\u001b[39m \u001b[43mm\u001b[49m\u001b[38;5;241;43m.\u001b[39;49m\u001b[43mcreate_instance\u001b[49m\u001b[43m(\u001b[49m\u001b[43mdata\u001b[49m\u001b[43m)\u001b[49m\n\u001b[0;32m      6\u001b[0m instance\u001b[38;5;241m.\u001b[39mpprint()\n",
      "File \u001b[1;32m~\\anaconda3\\lib\\site-packages\\pyomo\\core\\base\\PyomoModel.py:697\u001b[0m, in \u001b[0;36mModel.create_instance\u001b[1;34m(self, filename, data, name, namespace, namespaces, profile_memory, report_timing, **kwds)\u001b[0m\n\u001b[0;32m    694\u001b[0m \u001b[38;5;28;01mif\u001b[39;00m \u001b[38;5;28;01mNone\u001b[39;00m \u001b[38;5;129;01mnot\u001b[39;00m \u001b[38;5;129;01min\u001b[39;00m _namespaces:\n\u001b[0;32m    695\u001b[0m     _namespaces\u001b[38;5;241m.\u001b[39mappend(\u001b[38;5;28;01mNone\u001b[39;00m)\n\u001b[1;32m--> 697\u001b[0m \u001b[43minstance\u001b[49m\u001b[38;5;241;43m.\u001b[39;49m\u001b[43mload\u001b[49m\u001b[43m(\u001b[49m\u001b[43m \u001b[49m\u001b[43mdata\u001b[49m\u001b[43m,\u001b[49m\n\u001b[0;32m    698\u001b[0m \u001b[43m               \u001b[49m\u001b[43mnamespaces\u001b[49m\u001b[38;5;241;43m=\u001b[39;49m\u001b[43m_namespaces\u001b[49m\u001b[43m,\u001b[49m\n\u001b[0;32m    699\u001b[0m \u001b[43m               \u001b[49m\u001b[43mprofile_memory\u001b[49m\u001b[38;5;241;43m=\u001b[39;49m\u001b[43mprofile_memory\u001b[49m\u001b[43m \u001b[49m\u001b[43m)\u001b[49m\n\u001b[0;32m    701\u001b[0m \u001b[38;5;66;03m#\u001b[39;00m\n\u001b[0;32m    702\u001b[0m \u001b[38;5;66;03m# Indicate that the model is concrete/constructed\u001b[39;00m\n\u001b[0;32m    703\u001b[0m \u001b[38;5;66;03m#\u001b[39;00m\n\u001b[0;32m    704\u001b[0m instance\u001b[38;5;241m.\u001b[39m_constructed \u001b[38;5;241m=\u001b[39m \u001b[38;5;28;01mTrue\u001b[39;00m\n",
      "File \u001b[1;32m~\\anaconda3\\lib\\site-packages\\pyomo\\core\\base\\PyomoModel.py:734\u001b[0m, in \u001b[0;36mModel.load\u001b[1;34m(self, arg, namespaces, profile_memory)\u001b[0m\n\u001b[0;32m    732\u001b[0m     msg \u001b[38;5;241m=\u001b[39m \u001b[38;5;124m\"\u001b[39m\u001b[38;5;124mCannot load model model data from with object of type \u001b[39m\u001b[38;5;124m'\u001b[39m\u001b[38;5;132;01m%s\u001b[39;00m\u001b[38;5;124m'\u001b[39m\u001b[38;5;124m\"\u001b[39m\n\u001b[0;32m    733\u001b[0m     \u001b[38;5;28;01mraise\u001b[39;00m \u001b[38;5;167;01mValueError\u001b[39;00m(msg \u001b[38;5;241m%\u001b[39m \u001b[38;5;28mstr\u001b[39m( \u001b[38;5;28mtype\u001b[39m(arg) ))\n\u001b[1;32m--> 734\u001b[0m \u001b[38;5;28;43mself\u001b[39;49m\u001b[38;5;241;43m.\u001b[39;49m\u001b[43m_load_model_data\u001b[49m\u001b[43m(\u001b[49m\u001b[43mdp\u001b[49m\u001b[43m,\u001b[49m\n\u001b[0;32m    735\u001b[0m \u001b[43m                      \u001b[49m\u001b[43mnamespaces\u001b[49m\u001b[43m,\u001b[49m\n\u001b[0;32m    736\u001b[0m \u001b[43m                      \u001b[49m\u001b[43mprofile_memory\u001b[49m\u001b[38;5;241;43m=\u001b[39;49m\u001b[43mprofile_memory\u001b[49m\u001b[43m)\u001b[49m\n",
      "File \u001b[1;32m~\\anaconda3\\lib\\site-packages\\pyomo\\core\\base\\PyomoModel.py:787\u001b[0m, in \u001b[0;36mModel._load_model_data\u001b[1;34m(self, modeldata, namespaces, **kwds)\u001b[0m\n\u001b[0;32m    784\u001b[0m     \u001b[38;5;28;01mif\u001b[39;00m component\u001b[38;5;241m.\u001b[39mctype \u001b[38;5;129;01mis\u001b[39;00m Model:\n\u001b[0;32m    785\u001b[0m         \u001b[38;5;28;01mcontinue\u001b[39;00m\n\u001b[1;32m--> 787\u001b[0m     \u001b[38;5;28;43mself\u001b[39;49m\u001b[38;5;241;43m.\u001b[39;49m\u001b[43m_initialize_component\u001b[49m\u001b[43m(\u001b[49m\u001b[43mmodeldata\u001b[49m\u001b[43m,\u001b[49m\u001b[43m \u001b[49m\u001b[43mnamespaces\u001b[49m\u001b[43m,\u001b[49m\u001b[43m \u001b[49m\u001b[43mcomponent_name\u001b[49m\u001b[43m,\u001b[49m\u001b[43m \u001b[49m\u001b[43mprofile_memory\u001b[49m\u001b[43m)\u001b[49m\n\u001b[0;32m    789\u001b[0m \u001b[38;5;66;03m# Note: As is, connectors are expanded when using command-line pyomo but not calling model.create(...) in a Python script.\u001b[39;00m\n\u001b[0;32m    790\u001b[0m \u001b[38;5;66;03m# John says this has to do with extension points which are called from commandline but not when writing scripts.\u001b[39;00m\n\u001b[0;32m    791\u001b[0m \u001b[38;5;66;03m# Uncommenting the next two lines switches this (command-line fails because it tries to expand connectors twice)\u001b[39;00m\n\u001b[0;32m    792\u001b[0m \u001b[38;5;66;03m#connector_expander = ConnectorExpander()\u001b[39;00m\n\u001b[0;32m    793\u001b[0m \u001b[38;5;66;03m#connector_expander.apply(instance=self)\u001b[39;00m\n\u001b[0;32m    795\u001b[0m \u001b[38;5;28;01mif\u001b[39;00m profile_memory \u001b[38;5;241m>\u001b[39m\u001b[38;5;241m=\u001b[39m \u001b[38;5;241m2\u001b[39m \u001b[38;5;129;01mand\u001b[39;00m pympler_available:\n",
      "File \u001b[1;32m~\\anaconda3\\lib\\site-packages\\pyomo\\core\\base\\PyomoModel.py:825\u001b[0m, in \u001b[0;36mModel._initialize_component\u001b[1;34m(self, modeldata, namespaces, component_name, profile_memory)\u001b[0m\n\u001b[0;32m    821\u001b[0m     logger\u001b[38;5;241m.\u001b[39mdebug( \u001b[38;5;124m\"\u001b[39m\u001b[38;5;124mConstructing \u001b[39m\u001b[38;5;132;01m%s\u001b[39;00m\u001b[38;5;124m \u001b[39m\u001b[38;5;124m'\u001b[39m\u001b[38;5;132;01m%s\u001b[39;00m\u001b[38;5;124m'\u001b[39m\u001b[38;5;124m on \u001b[39m\u001b[38;5;132;01m%s\u001b[39;00m\u001b[38;5;124m from data=\u001b[39m\u001b[38;5;132;01m%s\u001b[39;00m\u001b[38;5;124m\"\u001b[39m,\n\u001b[0;32m    822\u001b[0m                   declaration\u001b[38;5;241m.\u001b[39m\u001b[38;5;18m__class__\u001b[39m\u001b[38;5;241m.\u001b[39m\u001b[38;5;18m__name__\u001b[39m,\n\u001b[0;32m    823\u001b[0m                   declaration\u001b[38;5;241m.\u001b[39mname, _blockName, \u001b[38;5;28mstr\u001b[39m(data) )\n\u001b[0;32m    824\u001b[0m \u001b[38;5;28;01mtry\u001b[39;00m:\n\u001b[1;32m--> 825\u001b[0m     \u001b[43mdeclaration\u001b[49m\u001b[38;5;241;43m.\u001b[39;49m\u001b[43mconstruct\u001b[49m\u001b[43m(\u001b[49m\u001b[43mdata\u001b[49m\u001b[43m)\u001b[49m\n\u001b[0;32m    826\u001b[0m \u001b[38;5;28;01mexcept\u001b[39;00m:\n\u001b[0;32m    827\u001b[0m     err \u001b[38;5;241m=\u001b[39m sys\u001b[38;5;241m.\u001b[39mexc_info()[\u001b[38;5;241m1\u001b[39m]\n",
      "File \u001b[1;32m~\\anaconda3\\lib\\site-packages\\pyomo\\core\\base\\constraint.py:763\u001b[0m, in \u001b[0;36mConstraint.construct\u001b[1;34m(self, data)\u001b[0m\n\u001b[0;32m    760\u001b[0m     \u001b[38;5;28;01melse\u001b[39;00m:\n\u001b[0;32m    761\u001b[0m         \u001b[38;5;66;03m# Bypass the index validation and create the member directly\u001b[39;00m\n\u001b[0;32m    762\u001b[0m         \u001b[38;5;28;01mfor\u001b[39;00m index \u001b[38;5;129;01min\u001b[39;00m \u001b[38;5;28mself\u001b[39m\u001b[38;5;241m.\u001b[39mindex_set():\n\u001b[1;32m--> 763\u001b[0m             \u001b[38;5;28mself\u001b[39m\u001b[38;5;241m.\u001b[39m_setitem_when_not_present(index, \u001b[43mrule\u001b[49m\u001b[43m(\u001b[49m\u001b[43mblock\u001b[49m\u001b[43m,\u001b[49m\u001b[43m \u001b[49m\u001b[43mindex\u001b[49m\u001b[43m)\u001b[49m)\n\u001b[0;32m    764\u001b[0m \u001b[38;5;28;01mexcept\u001b[39;00m \u001b[38;5;167;01mException\u001b[39;00m:\n\u001b[0;32m    765\u001b[0m     err \u001b[38;5;241m=\u001b[39m sys\u001b[38;5;241m.\u001b[39mexc_info()[\u001b[38;5;241m1\u001b[39m]\n",
      "File \u001b[1;32m~\\anaconda3\\lib\\site-packages\\pyomo\\core\\base\\initializer.py:302\u001b[0m, in \u001b[0;36mIndexedCallInitializer.__call__\u001b[1;34m(self, parent, idx)\u001b[0m\n\u001b[0;32m    296\u001b[0m \u001b[38;5;28;01mdef\u001b[39;00m \u001b[38;5;21m__call__\u001b[39m(\u001b[38;5;28mself\u001b[39m, parent, idx):\n\u001b[0;32m    297\u001b[0m     \u001b[38;5;66;03m# Note: this is called by a component using data from a Set (so\u001b[39;00m\n\u001b[0;32m    298\u001b[0m     \u001b[38;5;66;03m# any tuple-like type should have already been checked and\u001b[39;00m\n\u001b[0;32m    299\u001b[0m     \u001b[38;5;66;03m# converted to a tuple; or flattening is turned off and it is\u001b[39;00m\n\u001b[0;32m    300\u001b[0m     \u001b[38;5;66;03m# the user's responsibility to sort things out.\u001b[39;00m\n\u001b[0;32m    301\u001b[0m     \u001b[38;5;28;01mif\u001b[39;00m idx\u001b[38;5;241m.\u001b[39m\u001b[38;5;18m__class__\u001b[39m \u001b[38;5;129;01mis\u001b[39;00m \u001b[38;5;28mtuple\u001b[39m:\n\u001b[1;32m--> 302\u001b[0m         \u001b[38;5;28;01mreturn\u001b[39;00m \u001b[38;5;28;43mself\u001b[39;49m\u001b[38;5;241;43m.\u001b[39;49m\u001b[43m_fcn\u001b[49m\u001b[43m(\u001b[49m\u001b[43mparent\u001b[49m\u001b[43m,\u001b[49m\u001b[43m \u001b[49m\u001b[38;5;241;43m*\u001b[39;49m\u001b[43midx\u001b[49m\u001b[43m)\u001b[49m\n\u001b[0;32m    303\u001b[0m     \u001b[38;5;28;01melse\u001b[39;00m:\n\u001b[0;32m    304\u001b[0m         \u001b[38;5;28;01mreturn\u001b[39;00m \u001b[38;5;28mself\u001b[39m\u001b[38;5;241m.\u001b[39m_fcn(parent, idx)\n",
      "Cell \u001b[1;32mIn[37], line 11\u001b[0m, in \u001b[0;36mUpper_Thermal_rule\u001b[1;34m(model, t, n, s, p)\u001b[0m\n\u001b[0;32m     10\u001b[0m \u001b[38;5;28;01mdef\u001b[39;00m \u001b[38;5;21mUpper_Thermal_rule\u001b[39m(model,t,n,s,p):\n\u001b[1;32m---> 11\u001b[0m     \u001b[38;5;28;01mreturn\u001b[39;00m \u001b[43mm\u001b[49m\u001b[38;5;241;43m.\u001b[39;49m\u001b[43mqt\u001b[49m\u001b[43m[\u001b[49m\u001b[43mt\u001b[49m\u001b[43m,\u001b[49m\u001b[43mn\u001b[49m\u001b[43m,\u001b[49m\u001b[43ms\u001b[49m\u001b[43m,\u001b[49m\u001b[43mp\u001b[49m\u001b[43m]\u001b[49m \u001b[38;5;241m<\u001b[39m\u001b[38;5;241m=\u001b[39m m\u001b[38;5;241m.\u001b[39mu[t,n,s,p] \u001b[38;5;241m*\u001b[39m m\u001b[38;5;241m.\u001b[39mk[t] \u001b[38;5;241m*\u001b[39m m\u001b[38;5;241m.\u001b[39mqmax[t]\n",
      "File \u001b[1;32m~\\anaconda3\\lib\\site-packages\\pyomo\\core\\base\\var.py:932\u001b[0m, in \u001b[0;36mIndexedVar.__getitem__\u001b[1;34m(self, args)\u001b[0m\n\u001b[0;32m    930\u001b[0m \u001b[38;5;28;01mdef\u001b[39;00m \u001b[38;5;21m__getitem__\u001b[39m(\u001b[38;5;28mself\u001b[39m, args):\n\u001b[0;32m    931\u001b[0m     \u001b[38;5;28;01mtry\u001b[39;00m:\n\u001b[1;32m--> 932\u001b[0m         \u001b[38;5;28;01mreturn\u001b[39;00m \u001b[38;5;28;43msuper\u001b[39;49m\u001b[43m(\u001b[49m\u001b[43m)\u001b[49m\u001b[38;5;241;43m.\u001b[39;49m\u001b[38;5;21;43m__getitem__\u001b[39;49m\u001b[43m(\u001b[49m\u001b[43margs\u001b[49m\u001b[43m)\u001b[49m\n\u001b[0;32m    933\u001b[0m     \u001b[38;5;28;01mexcept\u001b[39;00m \u001b[38;5;167;01mRuntimeError\u001b[39;00m:\n\u001b[0;32m    934\u001b[0m         tmp \u001b[38;5;241m=\u001b[39m args \u001b[38;5;28;01mif\u001b[39;00m args\u001b[38;5;241m.\u001b[39m\u001b[38;5;18m__class__\u001b[39m \u001b[38;5;129;01mis\u001b[39;00m \u001b[38;5;28mtuple\u001b[39m \u001b[38;5;28;01melse\u001b[39;00m (args,)\n",
      "File \u001b[1;32m~\\anaconda3\\lib\\site-packages\\pyomo\\core\\base\\indexed_component.py:535\u001b[0m, in \u001b[0;36mIndexedComponent.__getitem__\u001b[1;34m(self, index)\u001b[0m\n\u001b[0;32m    531\u001b[0m \u001b[38;5;124;03m\"\"\"\u001b[39;00m\n\u001b[0;32m    532\u001b[0m \u001b[38;5;124;03mThis method returns the data corresponding to the given index.\u001b[39;00m\n\u001b[0;32m    533\u001b[0m \u001b[38;5;124;03m\"\"\"\u001b[39;00m\n\u001b[0;32m    534\u001b[0m \u001b[38;5;28;01mif\u001b[39;00m \u001b[38;5;28mself\u001b[39m\u001b[38;5;241m.\u001b[39m_constructed \u001b[38;5;129;01mis\u001b[39;00m \u001b[38;5;28;01mFalse\u001b[39;00m:\n\u001b[1;32m--> 535\u001b[0m     \u001b[38;5;28;43mself\u001b[39;49m\u001b[38;5;241;43m.\u001b[39;49m\u001b[43m_not_constructed_error\u001b[49m\u001b[43m(\u001b[49m\u001b[43mindex\u001b[49m\u001b[43m)\u001b[49m\n\u001b[0;32m    537\u001b[0m \u001b[38;5;28;01mtry\u001b[39;00m:\n\u001b[0;32m    538\u001b[0m     obj \u001b[38;5;241m=\u001b[39m \u001b[38;5;28mself\u001b[39m\u001b[38;5;241m.\u001b[39m_data\u001b[38;5;241m.\u001b[39mget(index, _NotFound)\n",
      "File \u001b[1;32m~\\anaconda3\\lib\\site-packages\\pyomo\\core\\base\\indexed_component.py:740\u001b[0m, in \u001b[0;36mIndexedComponent._not_constructed_error\u001b[1;34m(self, idx)\u001b[0m\n\u001b[0;32m    738\u001b[0m \u001b[38;5;28;01melse\u001b[39;00m:\n\u001b[0;32m    739\u001b[0m     idx_str \u001b[38;5;241m=\u001b[39m \u001b[38;5;124m\"\u001b[39m\u001b[38;5;124m[\u001b[39m\u001b[38;5;124m\"\u001b[39m \u001b[38;5;241m+\u001b[39m \u001b[38;5;28mstr\u001b[39m(idx) \u001b[38;5;241m+\u001b[39m \u001b[38;5;124m\"\u001b[39m\u001b[38;5;124m]\u001b[39m\u001b[38;5;124m\"\u001b[39m\n\u001b[1;32m--> 740\u001b[0m \u001b[38;5;28;01mraise\u001b[39;00m \u001b[38;5;167;01mValueError\u001b[39;00m(\n\u001b[0;32m    741\u001b[0m     \u001b[38;5;124m\"\u001b[39m\u001b[38;5;124mError retrieving component \u001b[39m\u001b[38;5;132;01m%s\u001b[39;00m\u001b[38;5;132;01m%s\u001b[39;00m\u001b[38;5;124m: The component has \u001b[39m\u001b[38;5;124m\"\u001b[39m\n\u001b[0;32m    742\u001b[0m     \u001b[38;5;124m\"\u001b[39m\u001b[38;5;124mnot been constructed.\u001b[39m\u001b[38;5;124m\"\u001b[39m \u001b[38;5;241m%\u001b[39m (\u001b[38;5;28mself\u001b[39m\u001b[38;5;241m.\u001b[39mname, idx_str,))\n",
      "\u001b[1;31mValueError\u001b[0m: Error retrieving component qt[GEN_001,n1,lab,p1]: The component has not been constructed."
     ]
    }
   ],
   "source": [
    "data.load(filename=\"Data_generators1.csv\", param=(m.CO2rate, m.alfa , m.beta , m.gamma , m.f , m.o , m.qmax , m.qmin , m.bmax , m.wmax , m.w0 , m.wmin , m.k , m.rend))\n",
    "#why it generates problems to load more than one csv???????\n",
    "#data.load(filename=\"Data_duration1.csv\", set= (m.n, m.s, m.p))\n",
    "\n",
    "instance = m.create_instance(data)\n",
    "instance.pprint()"
   ]
  },
  {
   "cell_type": "code",
   "execution_count": null,
   "id": "e29e7825",
   "metadata": {},
   "outputs": [],
   "source": []
  }
 ],
 "metadata": {
  "kernelspec": {
   "display_name": "Python 3 (ipykernel)",
   "language": "python",
   "name": "python3"
  },
  "language_info": {
   "codemirror_mode": {
    "name": "ipython",
    "version": 3
   },
   "file_extension": ".py",
   "mimetype": "text/x-python",
   "name": "python",
   "nbconvert_exporter": "python",
   "pygments_lexer": "ipython3",
   "version": "3.9.12"
  }
 },
 "nbformat": 4,
 "nbformat_minor": 5
}
